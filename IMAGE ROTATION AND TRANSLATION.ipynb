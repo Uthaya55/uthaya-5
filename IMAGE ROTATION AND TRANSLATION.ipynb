{
 "cells": [
  {
   "cell_type": "markdown",
   "id": "a72d87ca",
   "metadata": {},
   "source": [
    "# IMAGE ROTATION AND TRANSLATION"
   ]
  },
  {
   "cell_type": "code",
   "execution_count": 1,
   "id": "c28b9c2a",
   "metadata": {},
   "outputs": [],
   "source": [
    "import cv2"
   ]
  },
  {
   "cell_type": "code",
   "execution_count": 2,
   "id": "c1d09c35",
   "metadata": {},
   "outputs": [],
   "source": [
    "import numpy as np"
   ]
  },
  {
   "cell_type": "code",
   "execution_count": 3,
   "id": "774b51aa",
   "metadata": {},
   "outputs": [],
   "source": [
    "im1=cv2.imread(\"tree.jpg\",0)"
   ]
  },
  {
   "cell_type": "code",
   "execution_count": 4,
   "id": "ddfb2afe",
   "metadata": {},
   "outputs": [],
   "source": [
    "res=cv2.resize(im1,(300,300))"
   ]
  },
  {
   "cell_type": "code",
   "execution_count": 5,
   "id": "c67fb800",
   "metadata": {},
   "outputs": [
    {
     "name": "stdout",
     "output_type": "stream",
     "text": [
      "(300, 300)\n"
     ]
    }
   ],
   "source": [
    "shp=res.shape\n",
    "print(shp)"
   ]
  },
  {
   "cell_type": "code",
   "execution_count": 6,
   "id": "aa7d034c",
   "metadata": {},
   "outputs": [
    {
     "name": "stdout",
     "output_type": "stream",
     "text": [
      "300\n",
      "300\n"
     ]
    }
   ],
   "source": [
    "height,width=res.shape[:2]\n",
    "print(height)\n",
    "print(width)"
   ]
  },
  {
   "cell_type": "code",
   "execution_count": 7,
   "id": "b66e69e3",
   "metadata": {},
   "outputs": [
    {
     "data": {
      "text/plain": [
       "(150.0, 150.0)"
      ]
     },
     "execution_count": 7,
     "metadata": {},
     "output_type": "execute_result"
    }
   ],
   "source": [
    "cent=(height/2,width/2)\n",
    "cent"
   ]
  },
  {
   "cell_type": "code",
   "execution_count": 8,
   "id": "3ac8deb4",
   "metadata": {},
   "outputs": [],
   "source": [
    "rotation_matrix=cv2.getRotationMatrix2D(center=cent,angle=25,scale=0.5)"
   ]
  },
  {
   "cell_type": "raw",
   "id": "f9606437",
   "metadata": {},
   "source": [
    "print(rotation_matrix)"
   ]
  },
  {
   "cell_type": "code",
   "execution_count": 9,
   "id": "b091c5b2",
   "metadata": {},
   "outputs": [],
   "source": [
    "rotated_im=cv2.warpAffine(src=res,M=rotation_matrix,dsize=(width,height))"
   ]
  },
  {
   "cell_type": "code",
   "execution_count": null,
   "id": "df6cc9b8",
   "metadata": {},
   "outputs": [],
   "source": [
    "cv2.imshow(\"original image\",res)\n",
    "cv2.waitKey(0)\n",
    "cv2.imshow(\"Rotated image\",rotated_im)\n",
    "cv2.waitKey(0)\n",
    "cv2.destroyAllWindows()"
   ]
  },
  {
   "cell_type": "markdown",
   "id": "d24c9992",
   "metadata": {},
   "source": [
    "# Translation Matrix"
   ]
  },
  {
   "cell_type": "code",
   "execution_count": 10,
   "id": "c0e0903c",
   "metadata": {},
   "outputs": [],
   "source": [
    "tx,ty=width/2,height/2"
   ]
  },
  {
   "cell_type": "code",
   "execution_count": 11,
   "id": "a0f8e677",
   "metadata": {},
   "outputs": [
    {
     "data": {
      "text/plain": [
       "150.0"
      ]
     },
     "execution_count": 11,
     "metadata": {},
     "output_type": "execute_result"
    }
   ],
   "source": [
    "ty"
   ]
  },
  {
   "cell_type": "code",
   "execution_count": 12,
   "id": "542c903a",
   "metadata": {},
   "outputs": [],
   "source": [
    "Translation_matrix=np.array([[1,0,tx],[0,1,ty]])"
   ]
  },
  {
   "cell_type": "code",
   "execution_count": 13,
   "id": "9c8cfdc9",
   "metadata": {},
   "outputs": [
    {
     "data": {
      "text/plain": [
       "array([[  1.,   0., 150.],\n",
       "       [  0.,   1., 150.]])"
      ]
     },
     "execution_count": 13,
     "metadata": {},
     "output_type": "execute_result"
    }
   ],
   "source": [
    "Translation_matrix"
   ]
  },
  {
   "cell_type": "code",
   "execution_count": 14,
   "id": "e31f779e",
   "metadata": {},
   "outputs": [],
   "source": [
    "Trans_im=cv2.warpAffine(src=im1,M=Translation_matrix,dsize=(height,width))"
   ]
  },
  {
   "cell_type": "code",
   "execution_count": null,
   "id": "ac8ac7df",
   "metadata": {},
   "outputs": [],
   "source": [
    "cv2.imshow(\"original image\",im1)\n",
    "cv2.waitKey(0)\n",
    "cv2.imshow(\"Transe image\",Trans_im)\n",
    "cv2.waitKey(0)\n",
    "cv2.destroyAllWindows()"
   ]
  },
  {
   "cell_type": "code",
   "execution_count": null,
   "id": "84fd4fd1",
   "metadata": {},
   "outputs": [],
   "source": []
  },
  {
   "cell_type": "code",
   "execution_count": null,
   "id": "57619f48",
   "metadata": {},
   "outputs": [],
   "source": []
  }
 ],
 "metadata": {
  "kernelspec": {
   "display_name": "Python 3 (ipykernel)",
   "language": "python",
   "name": "python3"
  },
  "language_info": {
   "codemirror_mode": {
    "name": "ipython",
    "version": 3
   },
   "file_extension": ".py",
   "mimetype": "text/x-python",
   "name": "python",
   "nbconvert_exporter": "python",
   "pygments_lexer": "ipython3",
   "version": "3.9.13"
  }
 },
 "nbformat": 4,
 "nbformat_minor": 5
}
