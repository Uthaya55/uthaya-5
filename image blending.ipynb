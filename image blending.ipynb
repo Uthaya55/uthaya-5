{
 "cells": [
  {
   "cell_type": "markdown",
   "id": "f00e885f",
   "metadata": {},
   "source": [
    "# image blending"
   ]
  },
  {
   "cell_type": "code",
   "execution_count": null,
   "id": "0d06216e",
   "metadata": {},
   "outputs": [],
   "source": [
    "import cv2\n",
    "import numpy"
   ]
  },
  {
   "cell_type": "code",
   "execution_count": null,
   "id": "e9b22c03",
   "metadata": {},
   "outputs": [],
   "source": [
    "im1=cv2.imread(\"C:/Users/SN137/Pictures/blue.png\")"
   ]
  },
  {
   "cell_type": "code",
   "execution_count": null,
   "id": "2cccb09c",
   "metadata": {},
   "outputs": [],
   "source": [
    "im1"
   ]
  },
  {
   "cell_type": "code",
   "execution_count": null,
   "id": "6f3a15b3",
   "metadata": {},
   "outputs": [],
   "source": [
    "im2=cv2.imread(\"C:/Users/SN137/Pictures/bink.png\")"
   ]
  },
  {
   "cell_type": "code",
   "execution_count": null,
   "id": "2ba19df7",
   "metadata": {},
   "outputs": [],
   "source": [
    "im2"
   ]
  },
  {
   "cell_type": "code",
   "execution_count": null,
   "id": "9308e216",
   "metadata": {},
   "outputs": [],
   "source": [
    "cv2.imshow(\"img\",im1)\n",
    "cv2.imshow(\"img2\",im2)\n",
    "cv2.waitKey(0)\n",
    "cv2.destroyAllwindows()"
   ]
  },
  {
   "cell_type": "markdown",
   "id": "efebb092",
   "metadata": {},
   "source": [
    "# blending"
   ]
  },
  {
   "cell_type": "code",
   "execution_count": null,
   "id": "0a97b345",
   "metadata": {},
   "outputs": [],
   "source": [
    "blend=cv2.addWeighted(im1,0.5,im2,0.5,0)"
   ]
  },
  {
   "cell_type": "code",
   "execution_count": null,
   "id": "91936b3a",
   "metadata": {},
   "outputs": [],
   "source": [
    "cv2.imshow(\"blend\",blend)\n",
    "cv2.imshow(\"img1\",im1)\n",
    "cv2.imshow(\"img2\",im2)\n",
    "cv2.waitKey(0)\n",
    "cv2.destroyAllwindows()"
   ]
  },
  {
   "cell_type": "code",
   "execution_count": null,
   "id": "864c7e46",
   "metadata": {},
   "outputs": [],
   "source": [
    "import numpy as np"
   ]
  },
  {
   "cell_type": "markdown",
   "id": "a1857cb1",
   "metadata": {},
   "source": [
    "# color blending"
   ]
  },
  {
   "cell_type": "code",
   "execution_count": 1,
   "id": "98cd6787",
   "metadata": {},
   "outputs": [],
   "source": [
    "import cv2\n",
    "import numpy"
   ]
  },
  {
   "cell_type": "code",
   "execution_count": 2,
   "id": "17c024c8",
   "metadata": {},
   "outputs": [],
   "source": [
    "im1=cv2.imread(\"C:/Users/SN137Pictures.png\")"
   ]
  },
  {
   "cell_type": "code",
   "execution_count": 3,
   "id": "6ec67ad2",
   "metadata": {},
   "outputs": [],
   "source": [
    "im2=cv2.imread(\"C:/Users/SN137/Pictures.png\")"
   ]
  },
  {
   "cell_type": "code",
   "execution_count": 4,
   "id": "6fb2d144",
   "metadata": {},
   "outputs": [
    {
     "ename": "error",
     "evalue": "OpenCV(4.9.0) D:\\a\\opencv-python\\opencv-python\\opencv\\modules\\highgui\\src\\window.cpp:971: error: (-215:Assertion failed) size.width>0 && size.height>0 in function 'cv::imshow'\n",
     "output_type": "error",
     "traceback": [
      "\u001b[1;31m---------------------------------------------------------------------------\u001b[0m",
      "\u001b[1;31merror\u001b[0m                                     Traceback (most recent call last)",
      "Input \u001b[1;32mIn [4]\u001b[0m, in \u001b[0;36m<cell line: 1>\u001b[1;34m()\u001b[0m\n\u001b[1;32m----> 1\u001b[0m \u001b[43mcv2\u001b[49m\u001b[38;5;241;43m.\u001b[39;49m\u001b[43mimshow\u001b[49m\u001b[43m(\u001b[49m\u001b[38;5;124;43m\"\u001b[39;49m\u001b[38;5;124;43mimg1\u001b[39;49m\u001b[38;5;124;43m\"\u001b[39;49m\u001b[43m,\u001b[49m\u001b[43mim1\u001b[49m\u001b[43m)\u001b[49m\n\u001b[0;32m      2\u001b[0m cv2\u001b[38;5;241m.\u001b[39mimshow(\u001b[38;5;124m\"\u001b[39m\u001b[38;5;124mimg2\u001b[39m\u001b[38;5;124m\"\u001b[39m,im2)\n\u001b[0;32m      3\u001b[0m cv2\u001b[38;5;241m.\u001b[39mwaitKey(\u001b[38;5;241m0\u001b[39m)\n",
      "\u001b[1;31merror\u001b[0m: OpenCV(4.9.0) D:\\a\\opencv-python\\opencv-python\\opencv\\modules\\highgui\\src\\window.cpp:971: error: (-215:Assertion failed) size.width>0 && size.height>0 in function 'cv::imshow'\n"
     ]
    }
   ],
   "source": [
    "cv2.imshow(\"img1\",im1)\n",
    "cv2.imshow(\"img2\",im2)\n",
    "cv2.waitKey(0)\n",
    "cv2.destroyAllWindows()"
   ]
  },
  {
   "cell_type": "code",
   "execution_count": null,
   "id": "2655b241",
   "metadata": {},
   "outputs": [],
   "source": [
    "blend=cv2.addweighted(im1,0.5,im2,0.5,0)"
   ]
  },
  {
   "cell_type": "code",
   "execution_count": null,
   "id": "ec050862",
   "metadata": {},
   "outputs": [],
   "source": [
    "cv2.imshow(\"blended img\",blend)\n",
    "cv2.waitkey(0)\n",
    "cv2.destroyAllWindos()"
   ]
  },
  {
   "cell_type": "code",
   "execution_count": null,
   "id": "3ac3bf21",
   "metadata": {},
   "outputs": [],
   "source": [
    "sub=cv2.subract(im1,im2)"
   ]
  },
  {
   "cell_type": "code",
   "execution_count": null,
   "id": "0354050f",
   "metadata": {},
   "outputs": [],
   "source": [
    "cv2.imshow(\"sub\",sub)\n",
    "cv2.waitKey(0)\n",
    "cv2.destroyAllWindows()\n",
    "\n"
   ]
  },
  {
   "cell_type": "code",
   "execution_count": null,
   "id": "ac1dbdf7",
   "metadata": {},
   "outputs": [],
   "source": [
    "And=cv2.bitwise_and(im1,im2)\n"
   ]
  },
  {
   "cell_type": "code",
   "execution_count": null,
   "id": "77461e8e",
   "metadata": {},
   "outputs": [],
   "source": []
  },
  {
   "cell_type": "code",
   "execution_count": null,
   "id": "1d5a929c",
   "metadata": {},
   "outputs": [],
   "source": []
  }
 ],
 "metadata": {
  "kernelspec": {
   "display_name": "Python 3 (ipykernel)",
   "language": "python",
   "name": "python3"
  },
  "language_info": {
   "codemirror_mode": {
    "name": "ipython",
    "version": 3
   },
   "file_extension": ".py",
   "mimetype": "text/x-python",
   "name": "python",
   "nbconvert_exporter": "python",
   "pygments_lexer": "ipython3",
   "version": "3.9.13"
  }
 },
 "nbformat": 4,
 "nbformat_minor": 5
}
