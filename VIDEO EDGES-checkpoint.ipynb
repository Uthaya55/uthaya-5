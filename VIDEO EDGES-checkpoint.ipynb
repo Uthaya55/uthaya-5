{
 "cells": [
  {
   "cell_type": "code",
   "execution_count": null,
   "id": "f0934cac",
   "metadata": {},
   "outputs": [],
   "source": [
    "import cv2\n",
    "import numpy as np"
   ]
  },
  {
   "cell_type": "markdown",
   "id": "2bbfb756",
   "metadata": {},
   "source": [
    "# FRAME CAPTURE"
   ]
  },
  {
   "cell_type": "code",
   "execution_count": null,
   "id": "2325b383",
   "metadata": {},
   "outputs": [],
   "source": [
    "cap=cv2.VideoCapture(\"C:/Users/SN137/Downloads/videoplayback.mp4\")\n",
    "cap.isOpened()"
   ]
  },
  {
   "cell_type": "markdown",
   "id": "55b08c83",
   "metadata": {},
   "source": [
    "# CAPTURING USING LOOP"
   ]
  },
  {
   "cell_type": "code",
   "execution_count": null,
   "id": "b2978a47",
   "metadata": {},
   "outputs": [],
   "source": [
    "while cap.isOpened():\n",
    "    ret,frame=cap.read()\n",
    "    gray=cv2.cvtColor(frame,cv2.COLOR_BGR2GRAY)\n",
    "    cv2.imshow(\"Origional\",frame)\n",
    "    edges=cv2.Canny(frame,100,200)\n",
    "    cv2.imshow(\"Edges\",edges)\n",
    "    if cv2.waitKey(5) & 0xFF==ord(\"q\"):\n",
    "        break\n",
    "cap.releash()\n",
    "cap.destroyAllWindows(0)"
   ]
  },
  {
   "cell_type": "code",
   "execution_count": null,
   "id": "eab9cf5a",
   "metadata": {},
   "outputs": [],
   "source": []
  }
 ],
 "metadata": {
  "kernelspec": {
   "display_name": "Python 3 (ipykernel)",
   "language": "python",
   "name": "python3"
  },
  "language_info": {
   "codemirror_mode": {
    "name": "ipython",
    "version": 3
   },
   "file_extension": ".py",
   "mimetype": "text/x-python",
   "name": "python",
   "nbconvert_exporter": "python",
   "pygments_lexer": "ipython3",
   "version": "3.9.13"
  }
 },
 "nbformat": 4,
 "nbformat_minor": 5
}
