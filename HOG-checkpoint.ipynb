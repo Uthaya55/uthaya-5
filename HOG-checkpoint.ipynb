{
 "cells": [
  {
   "cell_type": "code",
   "execution_count": 3,
   "id": "f11cedda",
   "metadata": {},
   "outputs": [
    {
     "name": "stdout",
     "output_type": "stream",
     "text": [
      "Collecting imutils\n",
      "  Downloading imutils-0.5.4.tar.gz (17 kB)\n",
      "  Preparing metadata (setup.py): started\n",
      "  Preparing metadata (setup.py): finished with status 'done'\n",
      "Building wheels for collected packages: imutils\n",
      "  Building wheel for imutils (setup.py): started\n",
      "  Building wheel for imutils (setup.py): finished with status 'done'\n",
      "  Created wheel for imutils: filename=imutils-0.5.4-py3-none-any.whl size=25847 sha256=59d82f4d76d275314c84412c36c68d72adc9c0076ad0761d51d3f54a14f6d7bc\n",
      "  Stored in directory: c:\\users\\sn137\\appdata\\local\\pip\\cache\\wheels\\4b\\a5\\2d\\4a070a801d3a3d93f033d3ee9728f470f514826e89952df3ea\n",
      "Successfully built imutils\n",
      "Installing collected packages: imutils\n",
      "Successfully installed imutils-0.5.4\n",
      "Note: you may need to restart the kernel to use updated packages.\n"
     ]
    }
   ],
   "source": [
    "pip install imutils"
   ]
  },
  {
   "cell_type": "code",
   "execution_count": 142,
   "id": "8e886327",
   "metadata": {},
   "outputs": [],
   "source": [
    "import cv2\n",
    "import imutils"
   ]
  },
  {
   "cell_type": "code",
   "execution_count": 143,
   "id": "d3ab7abb",
   "metadata": {},
   "outputs": [
    {
     "data": {
      "text/plain": [
       "(943, 474, 3)"
      ]
     },
     "execution_count": 143,
     "metadata": {},
     "output_type": "execute_result"
    }
   ],
   "source": [
    "image=cv2.imread(\"people1.jpg\")\n",
    "image.shape"
   ]
  },
  {
   "cell_type": "code",
   "execution_count": 144,
   "id": "1f2626ae",
   "metadata": {},
   "outputs": [
    {
     "data": {
      "text/plain": [
       "(795, 400, 3)"
      ]
     },
     "execution_count": 144,
     "metadata": {},
     "output_type": "execute_result"
    }
   ],
   "source": [
    "image=imutils.resize(image,width=min(400,image.shape[1]))\n",
    "image.shape"
   ]
  },
  {
   "cell_type": "code",
   "execution_count": 145,
   "id": "248892c6",
   "metadata": {},
   "outputs": [
    {
     "data": {
      "text/plain": [
       "< cv2.HOGDescriptor 0000022CF1994530>"
      ]
     },
     "execution_count": 145,
     "metadata": {},
     "output_type": "execute_result"
    }
   ],
   "source": [
    "hog=cv2.HOGDescriptor()\n",
    "hog.setSVMDetector(cv2.HOGDescriptor_getDefaultPeopleDetector())\n",
    "hog"
   ]
  },
  {
   "cell_type": "markdown",
   "id": "c62239d9",
   "metadata": {},
   "source": [
    "# Detecting All the Regions in the image that has a padestrians inside it  "
   ]
  },
  {
   "cell_type": "code",
   "execution_count": 146,
   "id": "462d3394",
   "metadata": {},
   "outputs": [],
   "source": [
    "(regions,image)=hog.detectMultiScale(image,winStride=(1,1),padding=(40,40),scale=(1.05))"
   ]
  },
  {
   "cell_type": "code",
   "execution_count": 147,
   "id": "538a899b",
   "metadata": {},
   "outputs": [
    {
     "data": {
      "text/plain": [
       "array([[156, 234, 244, 561],\n",
       "       [ 49, 406, 178, 356],\n",
       "       [256, 451, 144, 344],\n",
       "       [  0,  59, 329, 736],\n",
       "       [224, 235,  98, 196],\n",
       "       [ 42, 275,  70, 139]])"
      ]
     },
     "execution_count": 147,
     "metadata": {},
     "output_type": "execute_result"
    }
   ],
   "source": [
    "regions"
   ]
  },
  {
   "cell_type": "code",
   "execution_count": 148,
   "id": "218a188a",
   "metadata": {},
   "outputs": [],
   "source": [
    "for (x,y,w,h) in regions:\n",
    "    cv2.rectangle(image,(x,y),\n",
    "                 (x+w,y+h),\n",
    "                 (0,255,0),3)"
   ]
  },
  {
   "cell_type": "code",
   "execution_count": 149,
   "id": "e598d4e3",
   "metadata": {},
   "outputs": [],
   "source": [
    "cv2.imshow(\"read\",image)\n",
    "cv2.waitKey(0)\n",
    "cv2.destroyAllWindows()"
   ]
  },
  {
   "cell_type": "code",
   "execution_count": null,
   "id": "e74f91ed",
   "metadata": {},
   "outputs": [],
   "source": []
  },
  {
   "cell_type": "code",
   "execution_count": null,
   "id": "1beef49a",
   "metadata": {},
   "outputs": [],
   "source": []
  }
 ],
 "metadata": {
  "kernelspec": {
   "display_name": "Python 3 (ipykernel)",
   "language": "python",
   "name": "python3"
  },
  "language_info": {
   "codemirror_mode": {
    "name": "ipython",
    "version": 3
   },
   "file_extension": ".py",
   "mimetype": "text/x-python",
   "name": "python",
   "nbconvert_exporter": "python",
   "pygments_lexer": "ipython3",
   "version": "3.9.13"
  }
 },
 "nbformat": 4,
 "nbformat_minor": 5
}
