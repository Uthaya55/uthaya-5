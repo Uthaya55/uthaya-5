{
 "cells": [
  {
   "cell_type": "code",
   "execution_count": 2,
   "id": "9d668ca1",
   "metadata": {},
   "outputs": [],
   "source": [
    "import cv2\n",
    "import numpy"
   ]
  },
  {
   "cell_type": "code",
   "execution_count": 6,
   "id": "693f6f16",
   "metadata": {},
   "outputs": [],
   "source": [
    "r=cv2.CascadeClassifier(cv2.data.haarcascades+\"C:/Users/SN137/S.UTHAYA KUMAR/122012012833/.ipynb_checkpoints\")"
   ]
  },
  {
   "cell_type": "code",
   "execution_count": 7,
   "id": "790b865a",
   "metadata": {},
   "outputs": [],
   "source": [
    "cap=cv2.imread(\"jack.jpg\")"
   ]
  },
  {
   "cell_type": "code",
   "execution_count": 8,
   "id": "4905faa8",
   "metadata": {},
   "outputs": [],
   "source": [
    "gray=cv2.cvtColor(cap,cv2.COLOR_BGR2GRAY)"
   ]
  },
  {
   "cell_type": "code",
   "execution_count": 10,
   "id": "c7c1967f",
   "metadata": {},
   "outputs": [
    {
     "ename": "SyntaxError",
     "evalue": "expression cannot contain assignment, perhaps you meant \"==\"? (4047396403.py, line 1)",
     "output_type": "error",
     "traceback": [
      "\u001b[1;36m  Cell \u001b[1;32mIn[10], line 1\u001b[1;36m\u001b[0m\n\u001b[1;33m    faces=r.detactMultiScale(cap.ScaleFactors=1.1,minNeighbours=1,minsize=(30,10))\u001b[0m\n\u001b[1;37m                             ^\u001b[0m\n\u001b[1;31mSyntaxError\u001b[0m\u001b[1;31m:\u001b[0m expression cannot contain assignment, perhaps you meant \"==\"?\n"
     ]
    }
   ],
   "source": [
    "faces=r.detactMultiScale(.ScaleFactors=1.1,minNeighbours=1,minsize=(30,10))\n",
    "for (x,y,w,h) in faces:\n",
    "    cv2.rectangle(gray,(x,y),(x+w),(y+h),(0,255,0),2)"
   ]
  },
  {
   "cell_type": "code",
   "execution_count": null,
   "id": "8f03e582",
   "metadata": {},
   "outputs": [],
   "source": []
  }
 ],
 "metadata": {
  "kernelspec": {
   "display_name": "Python 3 (ipykernel)",
   "language": "python",
   "name": "python3"
  },
  "language_info": {
   "codemirror_mode": {
    "name": "ipython",
    "version": 3
   },
   "file_extension": ".py",
   "mimetype": "text/x-python",
   "name": "python",
   "nbconvert_exporter": "python",
   "pygments_lexer": "ipython3",
   "version": "3.9.18"
  }
 },
 "nbformat": 4,
 "nbformat_minor": 5
}
