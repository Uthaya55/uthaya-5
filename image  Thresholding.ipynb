{
 "cells": [
  {
   "cell_type": "markdown",
   "id": "558ed629",
   "metadata": {},
   "source": [
    "# image thresholding"
   ]
  },
  {
   "cell_type": "code",
   "execution_count": 1,
   "id": "c3ba45ae",
   "metadata": {},
   "outputs": [],
   "source": [
    "import cv2\n",
    "import numpy"
   ]
  },
  {
   "cell_type": "code",
   "execution_count": 2,
   "id": "9c9bc506",
   "metadata": {},
   "outputs": [],
   "source": [
    "im1=cv2.imread(\"tree.jpg\",0)"
   ]
  },
  {
   "cell_type": "code",
   "execution_count": 3,
   "id": "13a41f9a",
   "metadata": {},
   "outputs": [],
   "source": [
    "cv2.imshow(\"im1\",im1)\n",
    "cv2.waitKey(0)\n",
    "cv2.destroyAllWindows()"
   ]
  },
  {
   "cell_type": "code",
   "execution_count": 4,
   "id": "ce29ff03",
   "metadata": {},
   "outputs": [
    {
     "data": {
      "text/plain": [
       "array([[ 15,  56,  68, ...,  38,  38,  38],\n",
       "       [ 15,  56,  68, ...,  38,  38,  38],\n",
       "       [ 15,  56,  68, ...,  38,  38,  38],\n",
       "       ...,\n",
       "       [  5,  33,  23, ...,  78,  89,  95],\n",
       "       [  4,  28,  30, ...,  92,  89,  99],\n",
       "       [  6,  28,  35, ...,  96, 144, 145]], dtype=uint8)"
      ]
     },
     "execution_count": 4,
     "metadata": {},
     "output_type": "execute_result"
    }
   ],
   "source": [
    "im1"
   ]
  },
  {
   "cell_type": "code",
   "execution_count": 5,
   "id": "681a90c0",
   "metadata": {},
   "outputs": [],
   "source": [
    "ret,thres=cv2.threshold(im1,83,100,cv2.THRESH_BINARY)"
   ]
  },
  {
   "cell_type": "code",
   "execution_count": 6,
   "id": "a53df05c",
   "metadata": {},
   "outputs": [],
   "source": [
    "cv2.imshow(\"im1\",im1)\n",
    "cv2.waitKey(0)\n",
    "cv2.destroyAllWindows()"
   ]
  },
  {
   "cell_type": "code",
   "execution_count": 7,
   "id": "d91e6e9e",
   "metadata": {},
   "outputs": [],
   "source": [
    "ret,thres1=cv2.threshold(im1,253,200,cv2.THRESH_BINARY)\n",
    "ret,thres2=cv2.threshold(im1,253,200,cv2.THRESH_BINARY_INV)\n",
    "ret,thres3=cv2.threshold(im1,253,200,cv2.THRESH_TRUNC)\n",
    "ret,thres4=cv2.threshold(im1,253,200,cv2.THRESH_TOZERO)\n",
    "ret,thres5=cv2.threshold(im1,253,200,cv2.THRESH_TOZERO_INV)"
   ]
  },
  {
   "cell_type": "code",
   "execution_count": 8,
   "id": "2fe7d46a",
   "metadata": {},
   "outputs": [
    {
     "data": {
      "text/plain": [
       "-1"
      ]
     },
     "execution_count": 8,
     "metadata": {},
     "output_type": "execute_result"
    }
   ],
   "source": [
    "cv2.imshow(\"thres1\",thres1)\n",
    "cv2.waitKey(0)\n",
    "cv2.imshow(\"thres2\",thres2)\n",
    "cv2.waitKey(0)\n",
    "cv2.imshow(\"thres3\",thres3)\n",
    "cv2.waitKey(0)\n",
    "cv2.imshow(\"thres4\",thres4)\n",
    "cv2.waitKey(0)\n",
    "cv2.imshow(\"thres5\",thres5)\n",
    "cv2.waitKey(0)"
   ]
  },
  {
   "cell_type": "markdown",
   "id": "c8ce5a41",
   "metadata": {},
   "source": []
  }
 ],
 "metadata": {
  "kernelspec": {
   "display_name": "Python 3 (ipykernel)",
   "language": "python",
   "name": "python3"
  },
  "language_info": {
   "codemirror_mode": {
    "name": "ipython",
    "version": 3
   },
   "file_extension": ".py",
   "mimetype": "text/x-python",
   "name": "python",
   "nbconvert_exporter": "python",
   "pygments_lexer": "ipython3",
   "version": "3.9.13"
  }
 },
 "nbformat": 4,
 "nbformat_minor": 5
}
