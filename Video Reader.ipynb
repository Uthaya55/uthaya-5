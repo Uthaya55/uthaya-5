{
 "cells": [
  {
   "cell_type": "markdown",
   "id": "62d045b8",
   "metadata": {},
   "source": [
    "# Video Read"
   ]
  },
  {
   "cell_type": "code",
   "execution_count": 1,
   "id": "f2a564fa",
   "metadata": {},
   "outputs": [],
   "source": [
    "import cv2  \n",
    "import numpy as np"
   ]
  },
  {
   "cell_type": "code",
   "execution_count": 2,
   "id": "df9e3ef7",
   "metadata": {},
   "outputs": [],
   "source": [
    "view=cv2.VideoCapture(\"C:/Users/SN137/Downloads/videoplayback.mp4\")"
   ]
  },
  {
   "cell_type": "code",
   "execution_count": 3,
   "id": "401ed381",
   "metadata": {},
   "outputs": [
    {
     "name": "stdout",
     "output_type": "stream",
     "text": [
      "< cv2.VideoCapture 000002B31F7E7A50>\n"
     ]
    }
   ],
   "source": [
    "print(view)"
   ]
  },
  {
   "cell_type": "markdown",
   "id": "c3be733e",
   "metadata": {},
   "source": [
    "# Display The Video"
   ]
  },
  {
   "cell_type": "code",
   "execution_count": 4,
   "id": "80f6dba5",
   "metadata": {},
   "outputs": [],
   "source": [
    "while(view.isOpened()):\n",
    "    ret,frame=view.read()\n",
    "    cv2.imshow(\"orign\",frame)\n",
    "    if cv2.waitKey(5) & 0xFF == ord(\"q\"):\n",
    "        break\n",
    "        \n",
    "view.release()\n",
    "cv2.destroyAllWindows()\n",
    "                                    "
   ]
  },
  {
   "cell_type": "code",
   "execution_count": 5,
   "id": "72a47bbe",
   "metadata": {},
   "outputs": [],
   "source": [
    "while(view.isOpened()):\n",
    "    ret,frame=view.read()\n",
    "    gray=cv2.cvtColor(frame,cv2.COLOR_BGR2GRAY)\n",
    "    cv2.imshow(\"video\",frame)\n",
    "    cv2.imshow('Gray',gray)\n",
    "    if cv2.waitKey(5) & 0xFF == ord(\"q\"):\n",
    "        break\n",
    "        \n",
    "view.release()\n",
    "cv2.destroyAllWindows()\n",
    "                                    "
   ]
  },
  {
   "cell_type": "markdown",
   "id": "7df1971f",
   "metadata": {},
   "source": []
  },
  {
   "cell_type": "code",
   "execution_count": null,
   "id": "d3c96cb5",
   "metadata": {},
   "outputs": [],
   "source": []
  }
 ],
 "metadata": {
  "kernelspec": {
   "display_name": "Python 3 (ipykernel)",
   "language": "python",
   "name": "python3"
  },
  "language_info": {
   "codemirror_mode": {
    "name": "ipython",
    "version": 3
   },
   "file_extension": ".py",
   "mimetype": "text/x-python",
   "name": "python",
   "nbconvert_exporter": "python",
   "pygments_lexer": "ipython3",
   "version": "3.9.13"
  }
 },
 "nbformat": 4,
 "nbformat_minor": 5
}
