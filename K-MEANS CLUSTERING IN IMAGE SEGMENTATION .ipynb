{
 "cells": [
  {
   "cell_type": "markdown",
   "id": "d7c86f97",
   "metadata": {},
   "source": [
    "# K-MEANS CLUSTERING"
   ]
  },
  {
   "cell_type": "code",
   "execution_count": 1,
   "id": "e3bda96f",
   "metadata": {},
   "outputs": [],
   "source": [
    "import cv2  \n",
    "import numpy as np"
   ]
  },
  {
   "cell_type": "markdown",
   "id": "476b3723",
   "metadata": {},
   "source": [
    "# READING IMAGE"
   ]
  },
  {
   "cell_type": "code",
   "execution_count": 2,
   "id": "20b53504",
   "metadata": {},
   "outputs": [
    {
     "data": {
      "text/plain": [
       "array([[[ 81,  13,   0],\n",
       "        [138,  57,  22],\n",
       "        [185,  75,   9],\n",
       "        ...,\n",
       "        [111,  44,   0],\n",
       "        [109,  44,   0],\n",
       "        [109,  44,   0]],\n",
       "\n",
       "       [[ 81,  13,   0],\n",
       "        [138,  57,  22],\n",
       "        [185,  75,   9],\n",
       "        ...,\n",
       "        [111,  44,   0],\n",
       "        [109,  44,   0],\n",
       "        [109,  44,   0]],\n",
       "\n",
       "       [[ 81,  13,   0],\n",
       "        [138,  57,  22],\n",
       "        [185,  75,   9],\n",
       "        ...,\n",
       "        [111,  45,   0],\n",
       "        [109,  44,   0],\n",
       "        [109,  44,   0]],\n",
       "\n",
       "       ...,\n",
       "\n",
       "       [[  0,  11,   0],\n",
       "        [ 15,  39,  27],\n",
       "        [  0,  31,  17],\n",
       "        ...,\n",
       "        [  0, 115,  36],\n",
       "        [  9, 125,  48],\n",
       "        [ 15, 131,  54]],\n",
       "\n",
       "       [[  0,  10,   0],\n",
       "        [  9,  35,  22],\n",
       "        [  3,  38,  24],\n",
       "        ...,\n",
       "        [  5, 130,  50],\n",
       "        [  0, 127,  48],\n",
       "        [  7, 137,  60]],\n",
       "\n",
       "       [[  0,  12,   0],\n",
       "        [  9,  35,  22],\n",
       "        [  7,  43,  29],\n",
       "        ...,\n",
       "        [  4, 135,  54],\n",
       "        [ 48, 183, 105],\n",
       "        [ 46, 184, 106]]], dtype=uint8)"
      ]
     },
     "execution_count": 2,
     "metadata": {},
     "output_type": "execute_result"
    }
   ],
   "source": [
    "img=cv2.imread(\"tree.jpg\")\n",
    "img"
   ]
  },
  {
   "cell_type": "markdown",
   "id": "19a703ac",
   "metadata": {},
   "source": [
    "# RGB CONVERSION"
   ]
  },
  {
   "cell_type": "code",
   "execution_count": 3,
   "id": "536760ae",
   "metadata": {},
   "outputs": [],
   "source": [
    "imgrgp=cv2.cvtColor(img,cv2.COLOR_BGR2RGB)"
   ]
  },
  {
   "cell_type": "markdown",
   "id": "0c5a02cb",
   "metadata": {},
   "source": [
    "# RESHAPE"
   ]
  },
  {
   "cell_type": "code",
   "execution_count": 4,
   "id": "210b2b4b",
   "metadata": {},
   "outputs": [
    {
     "data": {
      "text/plain": [
       "array([[  0,  13,  81],\n",
       "       [ 22,  57, 138],\n",
       "       [  9,  75, 185],\n",
       "       ...,\n",
       "       [ 54, 135,   4],\n",
       "       [105, 183,  48],\n",
       "       [106, 184,  46]], dtype=uint8)"
      ]
     },
     "execution_count": 4,
     "metadata": {},
     "output_type": "execute_result"
    }
   ],
   "source": [
    "vec=imgrgp.reshape((-1,3))\n",
    "vec"
   ]
  },
  {
   "cell_type": "markdown",
   "id": "6c457a1f",
   "metadata": {},
   "source": [
    "# float conversion"
   ]
  },
  {
   "cell_type": "code",
   "execution_count": 5,
   "id": "4acae107",
   "metadata": {},
   "outputs": [
    {
     "data": {
      "text/plain": [
       "array([[  0.,  13.,  81.],\n",
       "       [ 22.,  57., 138.],\n",
       "       [  9.,  75., 185.],\n",
       "       ...,\n",
       "       [ 54., 135.,   4.],\n",
       "       [105., 183.,  48.],\n",
       "       [106., 184.,  46.]], dtype=float32)"
      ]
     },
     "execution_count": 5,
     "metadata": {},
     "output_type": "execute_result"
    }
   ],
   "source": [
    "vec=np.float32(vec)\n",
    "vec"
   ]
  },
  {
   "cell_type": "markdown",
   "id": "9231dff2",
   "metadata": {},
   "source": [
    "# Iteration Termination Criteria"
   ]
  },
  {
   "cell_type": "code",
   "execution_count": 6,
   "id": "2ef89663",
   "metadata": {},
   "outputs": [],
   "source": [
    "criteria=(cv2.TERM_CRITERIA_EPS +cv2.TERM_CRITERIA_MAX_ITER,100,1)"
   ]
  },
  {
   "cell_type": "code",
   "execution_count": 7,
   "id": "5fa47d8e",
   "metadata": {},
   "outputs": [
    {
     "data": {
      "text/plain": [
       "(3, 100, 1)"
      ]
     },
     "execution_count": 7,
     "metadata": {},
     "output_type": "execute_result"
    }
   ],
   "source": [
    "criteria"
   ]
  },
  {
   "cell_type": "markdown",
   "id": "632af360",
   "metadata": {},
   "source": [
    "# Cluster Conditions"
   ]
  },
  {
   "cell_type": "code",
   "execution_count": 8,
   "id": "a78c93db",
   "metadata": {},
   "outputs": [],
   "source": [
    "k=3\n",
    "attempts=100"
   ]
  },
  {
   "cell_type": "markdown",
   "id": "df7f955d",
   "metadata": {},
   "source": [
    "# K-MEANS"
   ]
  },
  {
   "cell_type": "code",
   "execution_count": 9,
   "id": "be67c457",
   "metadata": {},
   "outputs": [],
   "source": [
    "compactness,label,center=cv2.kmeans(vec,k,None,criteria,attempts,cv2.KMEANS_PP_CENTERS)"
   ]
  },
  {
   "cell_type": "code",
   "execution_count": 10,
   "id": "aefb202f",
   "metadata": {},
   "outputs": [
    {
     "data": {
      "text/plain": [
       "13748184896.123161"
      ]
     },
     "execution_count": 10,
     "metadata": {},
     "output_type": "execute_result"
    }
   ],
   "source": [
    "compactness"
   ]
  },
  {
   "cell_type": "code",
   "execution_count": 11,
   "id": "a4de86c1",
   "metadata": {},
   "outputs": [
    {
     "data": {
      "text/plain": [
       "array([[1],\n",
       "       [2],\n",
       "       [2],\n",
       "       ...,\n",
       "       [1],\n",
       "       [1],\n",
       "       [1]], dtype=int32)"
      ]
     },
     "execution_count": 11,
     "metadata": {},
     "output_type": "execute_result"
    }
   ],
   "source": [
    "label"
   ]
  },
  {
   "cell_type": "code",
   "execution_count": 12,
   "id": "18bffd39",
   "metadata": {},
   "outputs": [
    {
     "data": {
      "text/plain": [
       "array([[188.72441 , 179.41121 , 145.78102 ],\n",
       "       [ 54.013527,  75.71114 ,  16.99485 ],\n",
       "       [ 46.2994  , 105.88282 , 188.27603 ]], dtype=float32)"
      ]
     },
     "execution_count": 12,
     "metadata": {},
     "output_type": "execute_result"
    }
   ],
   "source": [
    "center"
   ]
  },
  {
   "cell_type": "markdown",
   "id": "68979fd6",
   "metadata": {},
   "source": [
    "# UINT Conversion"
   ]
  },
  {
   "cell_type": "code",
   "execution_count": 13,
   "id": "614e060b",
   "metadata": {},
   "outputs": [
    {
     "data": {
      "text/plain": [
       "array([[188, 179, 145],\n",
       "       [ 54,  75,  16],\n",
       "       [ 46, 105, 188]], dtype=uint8)"
      ]
     },
     "execution_count": 13,
     "metadata": {},
     "output_type": "execute_result"
    }
   ],
   "source": [
    "center=np.uint8(center)\n",
    "center"
   ]
  },
  {
   "cell_type": "markdown",
   "id": "a9523469",
   "metadata": {},
   "source": [
    "# FLATTENING AND RESHAPE"
   ]
  },
  {
   "cell_type": "code",
   "execution_count": 14,
   "id": "1924c27a",
   "metadata": {},
   "outputs": [
    {
     "data": {
      "text/plain": [
       "array([[[ 54,  75,  16],\n",
       "        [ 46, 105, 188],\n",
       "        [ 46, 105, 188],\n",
       "        ...,\n",
       "        [ 46, 105, 188],\n",
       "        [ 46, 105, 188],\n",
       "        [ 46, 105, 188]],\n",
       "\n",
       "       [[ 54,  75,  16],\n",
       "        [ 46, 105, 188],\n",
       "        [ 46, 105, 188],\n",
       "        ...,\n",
       "        [ 46, 105, 188],\n",
       "        [ 46, 105, 188],\n",
       "        [ 46, 105, 188]],\n",
       "\n",
       "       [[ 54,  75,  16],\n",
       "        [ 46, 105, 188],\n",
       "        [ 46, 105, 188],\n",
       "        ...,\n",
       "        [ 46, 105, 188],\n",
       "        [ 46, 105, 188],\n",
       "        [ 46, 105, 188]],\n",
       "\n",
       "       ...,\n",
       "\n",
       "       [[ 54,  75,  16],\n",
       "        [ 54,  75,  16],\n",
       "        [ 54,  75,  16],\n",
       "        ...,\n",
       "        [ 54,  75,  16],\n",
       "        [ 54,  75,  16],\n",
       "        [ 54,  75,  16]],\n",
       "\n",
       "       [[ 54,  75,  16],\n",
       "        [ 54,  75,  16],\n",
       "        [ 54,  75,  16],\n",
       "        ...,\n",
       "        [ 54,  75,  16],\n",
       "        [ 54,  75,  16],\n",
       "        [ 54,  75,  16]],\n",
       "\n",
       "       [[ 54,  75,  16],\n",
       "        [ 54,  75,  16],\n",
       "        [ 54,  75,  16],\n",
       "        ...,\n",
       "        [ 54,  75,  16],\n",
       "        [ 54,  75,  16],\n",
       "        [ 54,  75,  16]]], dtype=uint8)"
      ]
     },
     "execution_count": 14,
     "metadata": {},
     "output_type": "execute_result"
    }
   ],
   "source": [
    "res=center[label.flatten()]\n",
    "res_img=res.reshape((imgrgp.shape))\n",
    "res_img"
   ]
  },
  {
   "cell_type": "markdown",
   "id": "82c8af98",
   "metadata": {},
   "source": [
    "# IMAGE"
   ]
  },
  {
   "cell_type": "code",
   "execution_count": 15,
   "id": "d8ec9437",
   "metadata": {},
   "outputs": [],
   "source": [
    "cv2.imshow('original',img)\n",
    "cv2.imshow('segmented',res_img)\n",
    "cv2.waitKey(0)\n",
    "cv2.destroyAllWindows()"
   ]
  },
  {
   "cell_type": "code",
   "execution_count": null,
   "id": "fdcef98d",
   "metadata": {},
   "outputs": [],
   "source": [
    "image=cv2.imread(\"tree.jpg\")\n",
    "segmented_images=cv2.pyrMeanShiftFiltering(image,40,40)\n",
    "cv2.imshow('original_image',image)\n",
    "cv2.imshow('segmented image',segmented_images)\n",
    "cv2.waitKey(0)\n",
    "cv2.destroyAllWindows()"
   ]
  },
  {
   "cell_type": "code",
   "execution_count": null,
   "id": "e7872209",
   "metadata": {},
   "outputs": [],
   "source": []
  }
 ],
 "metadata": {
  "kernelspec": {
   "display_name": "Python 3 (ipykernel)",
   "language": "python",
   "name": "python3"
  },
  "language_info": {
   "codemirror_mode": {
    "name": "ipython",
    "version": 3
   },
   "file_extension": ".py",
   "mimetype": "text/x-python",
   "name": "python",
   "nbconvert_exporter": "python",
   "pygments_lexer": "ipython3",
   "version": "3.9.13"
  }
 },
 "nbformat": 4,
 "nbformat_minor": 5
}
